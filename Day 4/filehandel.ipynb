{
 "cells": [
  {
   "cell_type": "markdown",
   "metadata": {},
   "source": [
    "# File handeling\n"
   ]
  },
  {
   "cell_type": "code",
   "execution_count": null,
   "metadata": {},
   "outputs": [],
   "source": [
    "## File handeling\n",
    "\n",
    "## example.txt is the name of file we are working with and 'r' is the operation which we are going to perform r means read, w means write.\n",
    "\n",
    "\n",
    "with open('example.txt','r') as file:\n",
    "    content=file.read()\n",
    "    print(content)"
   ]
  },
  {
   "cell_type": "code",
   "execution_count": null,
   "metadata": {},
   "outputs": [],
   "source": [
    "## Now printing the lies by taking an iterator where line is being an iterator.\n",
    "\n",
    "with open('example.txt','r') as file:\n",
    "    for line in file:\n",
    "        print(line)"
   ]
  },
  {
   "cell_type": "code",
   "execution_count": null,
   "metadata": {},
   "outputs": [],
   "source": [
    "## In above the space after the line is being consider as new line. So what we can do is we can use a function names strip(). What is does it it removes the space.\n",
    "with open('example.txt','r') as file:\n",
    "    for line in file:\n",
    "        print(line.strip())"
   ]
  },
  {
   "cell_type": "markdown",
   "metadata": {},
   "source": [
    "# Write mode\n",
    "### This mode actually overwrite the file and delete everything. And rewrite the file\n"
   ]
  },
  {
   "cell_type": "code",
   "execution_count": null,
   "metadata": {},
   "outputs": [],
   "source": [
    "## While creating this file I don't have anything in the example2.txt\n",
    "\n",
    "\n",
    "with open('example2.txt','w') as f: ## W is to overwrite the file\n",
    "    f.write(\"Hello Bro \\n\")\n",
    "    f.write(\"Kichui kaj er not bhai \\n\")\n",
    "\n",
    "with open('example2.txt','r') as f:\n",
    "    cont=f.read()\n",
    "    print(cont)\n",
    "    "
   ]
  },
  {
   "cell_type": "markdown",
   "metadata": {},
   "source": [
    "# Append mode\n",
    "\n",
    "### Used to write data into an file without overwritting it or without deleting everything inside the file"
   ]
  },
  {
   "cell_type": "code",
   "execution_count": 55,
   "metadata": {},
   "outputs": [
    {
     "name": "stdout",
     "output_type": "stream",
     "text": [
      "Hello\n",
      "Hi\n",
      "How are you\n",
      "Hey, Append operation ahppend here\n",
      "\n"
     ]
    }
   ],
   "source": [
    "with open('example.txt','a') as f:\n",
    "    f.write(\"Hey, Append operation ahppend here\\n\")\n",
    "\n",
    "with open('example.txt','r') as file:\n",
    "    content=file.read()\n",
    "    print(content)"
   ]
  },
  {
   "cell_type": "code",
   "execution_count": 58,
   "metadata": {},
   "outputs": [
    {
     "name": "stdout",
     "output_type": "stream",
     "text": [
      "Hello\n",
      "Hi\n",
      "How are you\n",
      "Hey, Append operation ahppend here\n",
      "Helloworld\n",
      "\n"
     ]
    }
   ],
   "source": [
    "## How can we add a list of strings into the files or specifically into our text files\n",
    "\n",
    "lin=[\"Hello\", \"world\"]\n",
    "with open('example.txt','a') as f:\n",
    "    f.writelines(lin)\n",
    "    f.write(\"\\n\")\n",
    "\n",
    "with open('example.txt','r') as file:\n",
    "    content=file.read()\n",
    "    print(content)\n"
   ]
  },
  {
   "cell_type": "code",
   "execution_count": 59,
   "metadata": {},
   "outputs": [
    {
     "name": "stdout",
     "output_type": "stream",
     "text": [
      "Hello\n",
      "Hi\n",
      "How are you\n",
      "Hey, Append operation ahppend here\n",
      "Helloworld\n",
      "Hello world \n",
      "\n"
     ]
    }
   ],
   "source": [
    "## As we can see that the list item appended into the end of files , but there isn't any space between them. Let's see hwo to fix them\n",
    "\n",
    "lin=[\"Hello\", \"world\"]\n",
    "with open('example.txt','a') as f:\n",
    "    for lines in lin:\n",
    "        f.write(lines+\" \")\n",
    "    f.write(\"\\n\")\n",
    "\n",
    "with open('example.txt','r') as file:\n",
    "    content=file.read()\n",
    "    print(content)\n"
   ]
  },
  {
   "cell_type": "code",
   "execution_count": 60,
   "metadata": {},
   "outputs": [
    {
     "name": "stdout",
     "output_type": "stream",
     "text": [
      "Hello\n",
      "Hi\n",
      "How are you\n",
      "Hey, Append operation ahppend here\n",
      "Helloworld\n",
      "Hello world \n",
      "1 2 3 4 5 6 7 8 9 10 \n",
      "\n"
     ]
    }
   ],
   "source": [
    "## Now lets see how can we add a list of integers or float variables into an file or any numbers into files\n",
    "\n",
    "lin=[1,2,3,4,5,6,7,8,9,10]\n",
    "with open('example.txt','a') as f:\n",
    "    for lines in lin:\n",
    "        f.write(str(lines)+ \" \") ## element in our list is numbers or integers in here but in text file they need to be as a string so to do that we have to convert the numebr in to string and I added a space after them We can also add comma ',' or anything else.\n",
    "    f.write(\"\\n\")\n",
    "\n",
    "with open('example.txt','r') as file:\n",
    "    content=file.read()\n",
    "    print(content)\n"
   ]
  },
  {
   "cell_type": "markdown",
   "metadata": {},
   "source": [
    "# how to add the content of a file to another file"
   ]
  },
  {
   "cell_type": "code",
   "execution_count": 66,
   "metadata": {},
   "outputs": [],
   "source": [
    "with open('example.txt','r') as file:\n",
    "    content=file.read()\n",
    "    with open('example2.txt','a') as foil:\n",
    "        foil.write(content)\n",
    "            "
   ]
  },
  {
   "cell_type": "code",
   "execution_count": 78,
   "metadata": {},
   "outputs": [
    {
     "name": "stdout",
     "output_type": "stream",
     "text": [
      "102\n",
      "24\n"
     ]
    }
   ],
   "source": [
    "with open('example.txt','r') as file:\n",
    "    context=file.readlines()\n",
    "    num=len(content)\n",
    "    print(num)\n",
    "    count=sum(len(line.split())for line in context)\n",
    "    print(count+1)"
   ]
  },
  {
   "cell_type": "code",
   "execution_count": 91,
   "metadata": {},
   "outputs": [
    {
     "name": "stdout",
     "output_type": "stream",
     "text": [
      "\n",
      "Hello\n",
      "Hello\n",
      "Hello\n",
      "\n"
     ]
    }
   ],
   "source": [
    "with open('example3.txt','w+') as file:\n",
    "    context=file.read()\n",
    "    print(context)\n",
    "    file.write(\"Hello\\n\")\n",
    "    file.write(\"Hello\\n\")\n",
    "    file.write(\"Hello\\n\")\n",
    "    file.seek(0)\n",
    "    context=file.read()\n",
    "    print(context)"
   ]
  },
  {
   "cell_type": "code",
   "execution_count": 2,
   "metadata": {},
   "outputs": [
    {
     "name": "stdout",
     "output_type": "stream",
     "text": [
      "['Industry']\n",
      "['Accounting/Finance']\n",
      "['Advertising/Public Relations']\n",
      "['Aerospace/Aviation']\n",
      "['Arts/Entertainment/Publishing']\n",
      "['Automotive']\n",
      "['Banking/Mortgage']\n",
      "['Business Development']\n",
      "['Business Opportunity']\n",
      "['Clerical/Administrative']\n",
      "['Construction/Facilities']\n",
      "['Consumer Goods']\n",
      "['Customer Service']\n",
      "['Education/Training']\n",
      "['Energy/Utilities']\n",
      "['Engineering']\n",
      "['Government/Military']\n",
      "['Green']\n",
      "['Healthcare']\n",
      "['Hospitality/Travel']\n",
      "['Human Resources']\n",
      "['Installation/Maintenance']\n",
      "['Insurance']\n",
      "['Internet']\n",
      "['Job Search Aids']\n",
      "['Law Enforcement/Security']\n",
      "['Legal']\n",
      "['Management/Executive']\n",
      "['Manufacturing/Operations']\n",
      "['Marketing']\n",
      "['Non-Profit/Volunteer']\n",
      "['Pharmaceutical/Biotech']\n",
      "['Professional Services']\n",
      "['QA/Quality Control']\n",
      "['Real Estate']\n",
      "['Restaurant/Food Service']\n",
      "['Retail']\n",
      "['Sales']\n",
      "['Science/Research']\n",
      "['Skilled Labor']\n",
      "['Technology']\n",
      "['Telecommunications']\n",
      "['Transportation/Logistics']\n",
      "['Other']\n"
     ]
    }
   ],
   "source": [
    "import csv\n",
    "\n",
    "with open('industry.csv','r') as file:\n",
    "    content=csv.reader(file)\n",
    "\n",
    "    for line in content:\n",
    "        print(line)"
   ]
  },
  {
   "cell_type": "code",
   "execution_count": null,
   "metadata": {},
   "outputs": [],
   "source": []
  }
 ],
 "metadata": {
  "kernelspec": {
   "display_name": "base",
   "language": "python",
   "name": "python3"
  },
  "language_info": {
   "codemirror_mode": {
    "name": "ipython",
    "version": 3
   },
   "file_extension": ".py",
   "mimetype": "text/x-python",
   "name": "python",
   "nbconvert_exporter": "python",
   "pygments_lexer": "ipython3",
   "version": "3.12.4"
  }
 },
 "nbformat": 4,
 "nbformat_minor": 2
}
