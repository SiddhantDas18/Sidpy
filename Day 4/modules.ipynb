{
 "cells": [
  {
   "cell_type": "markdown",
   "metadata": {},
   "source": [
    "# Moduels\n",
    "\n",
    "### So we can do some task without creating an function because we have modles for that , where the functions are predefined. "
   ]
  },
  {
   "cell_type": "code",
   "execution_count": 16,
   "metadata": {},
   "outputs": [
    {
     "name": "stdout",
     "output_type": "stream",
     "text": [
      "The square root of 4 is 2\n"
     ]
    }
   ],
   "source": [
    "import math as onko\n",
    "\n",
    "##from math import* also does the same it import the whole module\n",
    "\n",
    "n=int(input(\"Enter your number to get the Square root  Value\"))\n",
    "sq=int(sqrt(n))\n",
    "print(f\"The square root of {n} is {sq}\")"
   ]
  },
  {
   "cell_type": "code",
   "execution_count": 14,
   "metadata": {},
   "outputs": [
    {
     "name": "stdout",
     "output_type": "stream",
     "text": [
      "3.141592653589793\n",
      "2\n"
     ]
    }
   ],
   "source": [
    "## Some time maybe we don't need the entire module. But we need only a few functions from them. Such as in the previous code block we are just using the sqrt function. Nothing else. So lets see how to access some specific moduels.\n",
    "\n",
    "from math import sqrt,pi\n",
    "\n",
    "\n",
    "print(pi)\n",
    "print(int(sqrt(4)))\n",
    "\n",
    "\n"
   ]
  },
  {
   "cell_type": "code",
   "execution_count": null,
   "metadata": {},
   "outputs": [],
   "source": []
  }
 ],
 "metadata": {
  "kernelspec": {
   "display_name": "base",
   "language": "python",
   "name": "python3"
  },
  "language_info": {
   "codemirror_mode": {
    "name": "ipython",
    "version": 3
   },
   "file_extension": ".py",
   "mimetype": "text/x-python",
   "name": "python",
   "nbconvert_exporter": "python",
   "pygments_lexer": "ipython3",
   "version": "3.12.4"
  }
 },
 "nbformat": 4,
 "nbformat_minor": 2
}
