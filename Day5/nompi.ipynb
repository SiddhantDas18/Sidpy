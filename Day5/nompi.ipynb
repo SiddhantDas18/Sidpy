{
 "cells": [
  {
   "cell_type": "markdown",
   "metadata": {},
   "source": [
    "# Numpy"
   ]
  },
  {
   "cell_type": "code",
   "execution_count": 6,
   "metadata": {},
   "outputs": [],
   "source": [
    "import numpy as np"
   ]
  },
  {
   "cell_type": "code",
   "execution_count": 7,
   "metadata": {},
   "outputs": [
    {
     "name": "stdout",
     "output_type": "stream",
     "text": [
      "[1 2 3 4]\n"
     ]
    }
   ],
   "source": [
    "a=np.array([1,2,3,4])\n",
    "print(a)"
   ]
  },
  {
   "cell_type": "code",
   "execution_count": 8,
   "metadata": {},
   "outputs": [
    {
     "name": "stdout",
     "output_type": "stream",
     "text": [
      "[ 1  4  9 16]\n"
     ]
    }
   ],
   "source": [
    "b=np.array([1,2,3,4])\n",
    "b=b**2\n",
    "print(b)"
   ]
  },
  {
   "cell_type": "code",
   "execution_count": 9,
   "metadata": {},
   "outputs": [
    {
     "name": "stdout",
     "output_type": "stream",
     "text": [
      "[ 1  4  9 16]\n"
     ]
    }
   ],
   "source": [
    "a1=np.array([1,2,3,4])\n",
    "b1=np.array([1,2,3,4])\n",
    "c1=a1*b1\n",
    "print(c1)"
   ]
  },
  {
   "cell_type": "markdown",
   "metadata": {},
   "source": [
    "# 2 dimentioanl array"
   ]
  },
  {
   "cell_type": "code",
   "execution_count": 10,
   "metadata": {},
   "outputs": [
    {
     "name": "stdout",
     "output_type": "stream",
     "text": [
      "[[ 1  2  3  4]\n",
      " [ 5  6  7  8]\n",
      " [ 9 10 11 12]]\n"
     ]
    }
   ],
   "source": [
    "a2=np.array([[1,2,3,4],[5,6,7,8],[9,10,11,12]])\n",
    "print(a2)"
   ]
  },
  {
   "cell_type": "code",
   "execution_count": 11,
   "metadata": {},
   "outputs": [
    {
     "name": "stdout",
     "output_type": "stream",
     "text": [
      "(4,)\n",
      "(3, 4)\n"
     ]
    }
   ],
   "source": [
    "print(a1.shape)\n",
    "print(a2.shape)"
   ]
  },
  {
   "cell_type": "code",
   "execution_count": 12,
   "metadata": {},
   "outputs": [
    {
     "name": "stdout",
     "output_type": "stream",
     "text": [
      "[[ 2  3]\n",
      " [ 6  7]\n",
      " [10 11]]\n"
     ]
    }
   ],
   "source": [
    "### Now lets try to print some specific numers from the a2 array lets say we only want to print 2,3 / 6,7 / 10,11 at the manner of dimentional array\n",
    "print(a2[0:,1:3])\n",
    "\n",
    "### print(a2[staring row index:endind row index+1 , starting coloumn index: ending column index+1])"
   ]
  },
  {
   "cell_type": "code",
   "execution_count": 13,
   "metadata": {},
   "outputs": [
    {
     "name": "stdout",
     "output_type": "stream",
     "text": [
      "[[0. 0. 0. 0.]\n",
      " [0. 0. 0. 0.]\n",
      " [0. 0. 0. 0.]]\n"
     ]
    }
   ],
   "source": [
    "### How to define an array of 0\n",
    "\n",
    "zero=np.zeros((3,4))\n",
    "print(zero)"
   ]
  },
  {
   "cell_type": "code",
   "execution_count": 15,
   "metadata": {},
   "outputs": [
    {
     "name": "stdout",
     "output_type": "stream",
     "text": [
      "[[1. 1. 1. 1.]\n",
      " [1. 1. 1. 1.]\n",
      " [1. 1. 1. 1.]]\n"
     ]
    }
   ],
   "source": [
    "### How to define an array of 1\n",
    "\n",
    "ones=np.ones((3,4))\n",
    "print(ones)"
   ]
  },
  {
   "cell_type": "code",
   "execution_count": 28,
   "metadata": {},
   "outputs": [
    {
     "name": "stdout",
     "output_type": "stream",
     "text": [
      "[1 2 3 4 5 6 7 8 9]\n"
     ]
    }
   ],
   "source": [
    "### How to create an array with start and end point\n",
    "\n",
    "arrange=np.arange(1,10,1) ### np.arange(start,stop,step)\n",
    "print(arrange)"
   ]
  },
  {
   "cell_type": "code",
   "execution_count": 39,
   "metadata": {},
   "outputs": [
    {
     "name": "stdout",
     "output_type": "stream",
     "text": [
      "[     0.           1010.1010101    2020.2020202    3030.3030303\n",
      "   4040.4040404    5050.50505051   6060.60606061   7070.70707071\n",
      "   8080.80808081   9090.90909091  10101.01010101  11111.11111111\n",
      "  12121.21212121  13131.31313131  14141.41414141  15151.51515152\n",
      "  16161.61616162  17171.71717172  18181.81818182  19191.91919192\n",
      "  20202.02020202  21212.12121212  22222.22222222  23232.32323232\n",
      "  24242.42424242  25252.52525253  26262.62626263  27272.72727273\n",
      "  28282.82828283  29292.92929293  30303.03030303  31313.13131313\n",
      "  32323.23232323  33333.33333333  34343.43434343  35353.53535354\n",
      "  36363.63636364  37373.73737374  38383.83838384  39393.93939394\n",
      "  40404.04040404  41414.14141414  42424.24242424  43434.34343434\n",
      "  44444.44444444  45454.54545455  46464.64646465  47474.74747475\n",
      "  48484.84848485  49494.94949495  50505.05050505  51515.15151515\n",
      "  52525.25252525  53535.35353535  54545.45454545  55555.55555556\n",
      "  56565.65656566  57575.75757576  58585.85858586  59595.95959596\n",
      "  60606.06060606  61616.16161616  62626.26262626  63636.36363636\n",
      "  64646.46464646  65656.56565657  66666.66666667  67676.76767677\n",
      "  68686.86868687  69696.96969697  70707.07070707  71717.17171717\n",
      "  72727.27272727  73737.37373737  74747.47474747  75757.57575758\n",
      "  76767.67676768  77777.77777778  78787.87878788  79797.97979798\n",
      "  80808.08080808  81818.18181818  82828.28282828  83838.38383838\n",
      "  84848.48484848  85858.58585859  86868.68686869  87878.78787879\n",
      "  88888.88888889  89898.98989899  90909.09090909  91919.19191919\n",
      "  92929.29292929  93939.39393939  94949.49494949  95959.5959596\n",
      "  96969.6969697   97979.7979798   98989.8989899  100000.        ]\n"
     ]
    }
   ],
   "source": [
    "### It is used to create a number of element between start and ending value\n",
    "\n",
    "lin = np.linspace(0, 100000, 100)  # Start, Stop, Number of values\n",
    "\n",
    "print(lin)"
   ]
  },
  {
   "cell_type": "code",
   "execution_count": 41,
   "metadata": {},
   "outputs": [
    {
     "data": {
      "text/plain": [
       "2"
      ]
     },
     "execution_count": 41,
     "metadata": {},
     "output_type": "execute_result"
    }
   ],
   "source": [
    "a2.ndim\n"
   ]
  },
  {
   "cell_type": "code",
   "execution_count": null,
   "metadata": {},
   "outputs": [],
   "source": []
  }
 ],
 "metadata": {
  "kernelspec": {
   "display_name": "base",
   "language": "python",
   "name": "python3"
  },
  "language_info": {
   "codemirror_mode": {
    "name": "ipython",
    "version": 3
   },
   "file_extension": ".py",
   "mimetype": "text/x-python",
   "name": "python",
   "nbconvert_exporter": "python",
   "pygments_lexer": "ipython3",
   "version": "3.12.4"
  }
 },
 "nbformat": 4,
 "nbformat_minor": 2
}
