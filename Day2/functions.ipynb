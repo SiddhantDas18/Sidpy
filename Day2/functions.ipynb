{
 "cells": [
  {
   "cell_type": "code",
   "execution_count": null,
   "metadata": {},
   "outputs": [],
   "source": [
    "### Greet function\n",
    "\n",
    "def greet(name):\n",
    "    print(f\"Hi! {name}\")\n",
    "\n",
    "name=str(input(\"What is your name? \"))\n",
    "greet(name)"
   ]
  },
  {
   "cell_type": "code",
   "execution_count": null,
   "metadata": {},
   "outputs": [],
   "source": [
    "### Code to count the number of weeks I have in life till the age 90\n",
    "def life_in_weeks(age):\n",
    "    weeks=54*(90-age)\n",
    "    print(f\"You have {weeks} weeks left.\")\n",
    "    \n",
    "age=int(input())\n",
    "life_in_weeks(age)"
   ]
  },
  {
   "cell_type": "code",
   "execution_count": null,
   "metadata": {},
   "outputs": [],
   "source": [
    "### Multi parameters in function\n",
    "\n",
    "def greetwith(name,place):\n",
    "    print(f\"Hey Siddhant, you have to meet with {name} at {place}. Have a nice date\")\n",
    "\n",
    "\n",
    "\n",
    "name=str(input(\"Enter the name you have to meet with: \"))\n",
    "place=str(input(\"Enter the place: \"))\n",
    "\n",
    "greetwith(place=place , name=name)"
   ]
  },
  {
   "cell_type": "markdown",
   "metadata": {},
   "source": [
    "## Encrypter Decrypted by shifting in alphabets"
   ]
  },
  {
   "cell_type": "code",
   "execution_count": 21,
   "metadata": {},
   "outputs": [
    {
     "name": "stdout",
     "output_type": "stream",
     "text": [
      "aaaaa\n",
      "zzzzz\n"
     ]
    }
   ],
   "source": [
    "\n",
    "\n",
    "alphabet=[\"a\",\"b\",\"c\",\"d\",\"e\",\"f\",\"g\",\"h\",\"i\",\"j\",\"k\",\"l\",\"m\",\"n\",\"o\",\"p\",\"q\",\"r\",\"s\",\"t\",\"u\",\"v\",\"w\",\"x\",\"y\",\"z\"]\n",
    "\n",
    "def encrypt(name,shifting):\n",
    "    encrypted_name=\"\"\n",
    "    for letter in name:\n",
    "\n",
    "        shiftchar=alphabet.index(letter)+shifting\n",
    "        ### At this point if there is an alphabet Z and if we shift it by a position forward it won't shift as we don't have anything after Z, So what we did is we just get the shifting position like shift by 1 then 25+1=26 (Here we have 25 element in the alphabet as the array or list starts from index 0) now we would moulde it with the number of element we have in the list 26/25 which is 1. and we will print the element\n",
    "\n",
    "        shiftchar %= len(alphabet)\n",
    "        encrypted_name+=alphabet[shiftchar]\n",
    "    \n",
    "    print(encrypted_name)\n",
    "\n",
    "\n",
    "def decrypt(name,shifting):\n",
    "    decrypted_name=\"\"\n",
    "    for letter in name:\n",
    "        shiftchar=alphabet.index(letter)-shifting\n",
    "        decrypted_name+=alphabet[shiftchar]\n",
    "    \n",
    "    print(decrypted_name)\n",
    "\n",
    "\n",
    "encrypt(name=\"zzzzz\",shifting=1)\n",
    "decrypt(name=\"aaaaa\",shifting=1)\n",
    "\n"
   ]
  },
  {
   "cell_type": "code",
   "execution_count": null,
   "metadata": {},
   "outputs": [],
   "source": []
  }
 ],
 "metadata": {
  "kernelspec": {
   "display_name": "base",
   "language": "python",
   "name": "python3"
  },
  "language_info": {
   "codemirror_mode": {
    "name": "ipython",
    "version": 3
   },
   "file_extension": ".py",
   "mimetype": "text/x-python",
   "name": "python",
   "nbconvert_exporter": "python",
   "pygments_lexer": "ipython3",
   "version": "3.12.4"
  }
 },
 "nbformat": 4,
 "nbformat_minor": 2
}
