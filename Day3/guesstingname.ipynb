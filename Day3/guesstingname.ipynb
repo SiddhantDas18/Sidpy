{
 "cells": [
  {
   "cell_type": "markdown",
   "metadata": {},
   "source": [
    "# Guessing Game"
   ]
  },
  {
   "cell_type": "code",
   "execution_count": 6,
   "metadata": {},
   "outputs": [
    {
     "name": "stdout",
     "output_type": "stream",
     "text": [
      "You have 8 to chose the correct word\n",
      "60\n"
     ]
    }
   ],
   "source": [
    "import random\n",
    "\n",
    "level=int(input(\" 1 for Easy 2 for Medium 3 for Hard\"))\n",
    "\n",
    "if level ==1:\n",
    "    attempts=10\n",
    "elif level ==2:\n",
    "    attempts=8\n",
    "elif level ==3:\n",
    "    attempts=6\n",
    "\n",
    "choosen_num=random.randint(1,100)\n",
    "print(f\"You have {attempts} to chose the correct word\")\n",
    "print(choosen_num)"
   ]
  },
  {
   "cell_type": "code",
   "execution_count": 8,
   "metadata": {},
   "outputs": [
    {
     "name": "stdout",
     "output_type": "stream",
     "text": [
      "Too low\n",
      "You have 5 attempts left\n",
      "Too low\n",
      "You have 4 attempts left\n",
      "Congratulations! You guessed the number correctly\n"
     ]
    }
   ],
   "source": [
    "chance =False\n",
    "\n",
    "while not chance:\n",
    "    if attempts==0:\n",
    "        chance=True\n",
    "        break\n",
    "\n",
    "    guess=int(input(\"Enter the number\"))\n",
    "\n",
    "    if guess>choosen_num:\n",
    "        print(\"Too high\")\n",
    "        attempts-=1\n",
    "        print(f\"You have {attempts} attempts left\")\n",
    "    elif guess<choosen_num:\n",
    "        print(\"Too low\")\n",
    "        attempts-=1\n",
    "        print(f\"You have {attempts} attempts left\")\n",
    "    elif guess==choosen_num:\n",
    "        chance=True\n",
    "        print(\"Congratulations! You guessed the number correctly\")\n",
    "        break\n",
    "\n",
    "    \n",
    "    \n"
   ]
  }
 ],
 "metadata": {
  "kernelspec": {
   "display_name": "base",
   "language": "python",
   "name": "python3"
  },
  "language_info": {
   "codemirror_mode": {
    "name": "ipython",
    "version": 3
   },
   "file_extension": ".py",
   "mimetype": "text/x-python",
   "name": "python",
   "nbconvert_exporter": "python",
   "pygments_lexer": "ipython3",
   "version": "3.12.4"
  }
 },
 "nbformat": 4,
 "nbformat_minor": 2
}
