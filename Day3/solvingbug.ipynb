{
 "cells": [
  {
   "cell_type": "markdown",
   "metadata": {},
   "source": [
    "# Solving Bug"
   ]
  },
  {
   "cell_type": "code",
   "execution_count": 4,
   "metadata": {},
   "outputs": [
    {
     "name": "stdout",
     "output_type": "stream",
     "text": [
      "You are a millennial\n"
     ]
    }
   ],
   "source": [
    "\n",
    "year=int(input(\"Enter your birth month: \"))\n",
    "\n",
    "if year >1983 and year <1994:\n",
    "    print(\"You are a millennial\")\n",
    "elif year>1994:\n",
    "    print(\"You are a Gen Z\")"
   ]
  },
  {
   "cell_type": "markdown",
   "metadata": {},
   "source": [
    "## The previous code is not telling anything when I am giving my year 1983 or before and 1994\n",
    "### Fix is in below"
   ]
  },
  {
   "cell_type": "code",
   "execution_count": 3,
   "metadata": {},
   "outputs": [
    {
     "name": "stdout",
     "output_type": "stream",
     "text": [
      "You are a millennial\n"
     ]
    }
   ],
   "source": [
    "year=int(input(\"Enter your birth month: \"))\n",
    "\n",
    "### Here closely look i give a equal to sign after  year>=1983 and year<=1994 this lets us include the year 1983 and 1994 into the condition\n",
    "if year >=1983 and year <=1994:\n",
    "    print(\"You are a millennial\")\n",
    "elif year>1994:\n",
    "    print(\"You are a Gen Z\")\n",
    "elif year<1983:\n",
    "    print(\"You are a Baby Boomer\")"
   ]
  },
  {
   "cell_type": "markdown",
   "metadata": {},
   "source": [
    "# How to eliminate the red lines on the time of execution if something is not going as planned"
   ]
  },
  {
   "cell_type": "code",
   "execution_count": 6,
   "metadata": {},
   "outputs": [
    {
     "ename": "ValueError",
     "evalue": "invalid literal for int() with base 10: 'sola'",
     "output_type": "error",
     "traceback": [
      "\u001b[1;31m---------------------------------------------------------------------------\u001b[0m",
      "\u001b[1;31mValueError\u001b[0m                                Traceback (most recent call last)",
      "Cell \u001b[1;32mIn[6], line 1\u001b[0m\n\u001b[1;32m----> 1\u001b[0m age\u001b[38;5;241m=\u001b[39m\u001b[38;5;28mint\u001b[39m(\u001b[38;5;28minput\u001b[39m(\u001b[38;5;124m\"\u001b[39m\u001b[38;5;124mEnter your age: \u001b[39m\u001b[38;5;124m\"\u001b[39m))\n\u001b[0;32m      3\u001b[0m \u001b[38;5;28;01mif\u001b[39;00m age\u001b[38;5;241m>\u001b[39m\u001b[38;5;241m=\u001b[39m\u001b[38;5;241m18\u001b[39m:\n\u001b[0;32m      4\u001b[0m     \u001b[38;5;28mprint\u001b[39m(\u001b[38;5;124m\"\u001b[39m\u001b[38;5;124mChal clg ja\u001b[39m\u001b[38;5;124m\"\u001b[39m)\n",
      "\u001b[1;31mValueError\u001b[0m: invalid literal for int() with base 10: 'sola'"
     ]
    }
   ],
   "source": [
    "age=int(input(\"Enter your age: \"))\n",
    "\n",
    "if age>=18:\n",
    "    print(\"Chal clg ja\")\n",
    "elif age<=17 and age>=15:\n",
    "    print(\"Arre beta iidhar kyu ?\")\n",
    "else:\n",
    "    print(\"Arre jaa ke pogo dekh\")"
   ]
  },
  {
   "cell_type": "markdown",
   "metadata": {},
   "source": [
    "### On the above line I passed the ase as sola or 16 in hindi but in characters. But the input is strintly in integer. Thus the code is giving us output that value error lets fix that"
   ]
  },
  {
   "cell_type": "code",
   "execution_count": 14,
   "metadata": {},
   "outputs": [
    {
     "name": "stdout",
     "output_type": "stream",
     "text": [
      "Arre jaa ke pogo dekh\n"
     ]
    }
   ],
   "source": [
    "### Create a function to check if the input format is wrong keep asking for a correct input format until the user gives a correct input\n",
    "def fetchage():\n",
    "    try:\n",
    "        age=int(input(\"Enter your age: \"))\n",
    "    except ValueError:\n",
    "        print(\"Please enter a valid integer.\")\n",
    "        fetchage()\n",
    "\n",
    "fetchage()\n",
    "\n",
    "if age>=18:\n",
    "    print(\"Chal clg ja\")\n",
    "elif age<=17 and age>=15:\n",
    "    print(\"Arre beta iidhar kyu ?\")\n",
    "else:\n",
    "    print(\"Arre jaa ke pogo dekh\")"
   ]
  }
 ],
 "metadata": {
  "kernelspec": {
   "display_name": "base",
   "language": "python",
   "name": "python3"
  },
  "language_info": {
   "codemirror_mode": {
    "name": "ipython",
    "version": 3
   },
   "file_extension": ".py",
   "mimetype": "text/x-python",
   "name": "python",
   "nbconvert_exporter": "python",
   "pygments_lexer": "ipython3",
   "version": "3.12.4"
  }
 },
 "nbformat": 4,
 "nbformat_minor": 2
}
