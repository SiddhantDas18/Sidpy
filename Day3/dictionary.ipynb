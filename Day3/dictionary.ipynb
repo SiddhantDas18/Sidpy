{
 "cells": [
  {
   "cell_type": "markdown",
   "metadata": {},
   "source": [
    "# Dictionary"
   ]
  },
  {
   "cell_type": "code",
   "execution_count": 3,
   "metadata": {},
   "outputs": [
    {
     "name": "stdout",
     "output_type": "stream",
     "text": [
      "{'sid': 'haha', 'sonu': 'hehe'}\n"
     ]
    }
   ],
   "source": [
    "my_dictionary={}\n",
    "\n",
    "### Adding elemets to my dictionary\n",
    "\n",
    "num=int(input(\"Enter the number of elements You want in dictionary: \"))\n",
    "\n",
    "for i in range(num):\n",
    "    empty_name=str(input(\"Enter your Dictionary element name\"))\n",
    "    empty_data=str(input(\"Enter your dictionary data\"))\n",
    "\n",
    "    my_dictionary[empty_name]=empty_data\n",
    "\n",
    "\n",
    "\n",
    "\n",
    "print(my_dictionary)"
   ]
  },
  {
   "cell_type": "code",
   "execution_count": 6,
   "metadata": {},
   "outputs": [],
   "source": [
    "### Adding list into dictionary\n",
    "\n",
    "my_dictoionary1={}\n",
    "\n",
    "num1=int(input(\"Enter the number of States you visited: \"))\n",
    "\n",
    "for i in range(num1):\n",
    "    state=str(input(\"Enter the state name\"))\n",
    "    count=int(input(\"Enter the number of places you visited: \"))\n",
    "    if count==1:\n",
    "        places=str(input(\"Enter the name of the place: \"))\n",
    "        my_dictoionary1[state]=[places]\n",
    "    elif count>1:\n",
    "        places=[]\n",
    "        for j in range(count):\n",
    "            place=str(input(f\"Enter the name of the {j+1} place: \"))\n",
    "            places.append(place)\n",
    "        my_dictoionary1[state]=places\n",
    "\n"
   ]
  },
  {
   "cell_type": "code",
   "execution_count": 7,
   "metadata": {},
   "outputs": [
    {
     "name": "stdout",
     "output_type": "stream",
     "text": [
      "{'Hooghly': ['Tarakeswar', 'Hooghly', 'Magra', 'Pundooah', 'Santoshpur'], 'Vellore': ['Katpadi'], 'Maharastra': ['Nasik']}\n"
     ]
    }
   ],
   "source": [
    "print(my_dictoionary1)"
   ]
  }
 ],
 "metadata": {
  "kernelspec": {
   "display_name": "base",
   "language": "python",
   "name": "python3"
  },
  "language_info": {
   "codemirror_mode": {
    "name": "ipython",
    "version": 3
   },
   "file_extension": ".py",
   "mimetype": "text/x-python",
   "name": "python",
   "nbconvert_exporter": "python",
   "pygments_lexer": "ipython3",
   "version": "3.12.4"
  }
 },
 "nbformat": 4,
 "nbformat_minor": 2
}
