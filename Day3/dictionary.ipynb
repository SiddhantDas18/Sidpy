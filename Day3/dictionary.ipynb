{
 "cells": [
  {
   "cell_type": "markdown",
   "metadata": {},
   "source": [
    "# Dictionary"
   ]
  },
  {
   "cell_type": "code",
   "execution_count": 3,
   "metadata": {},
   "outputs": [
    {
     "name": "stdout",
     "output_type": "stream",
     "text": [
      "{'sid': 'haha', 'sonu': 'hehe'}\n"
     ]
    }
   ],
   "source": [
    "my_dictionary={}\n",
    "\n",
    "### Adding elemets to my dictionary\n",
    "\n",
    "num=int(input(\"Enter the number of elements You want in dictionary: \"))\n",
    "\n",
    "for i in range(num):\n",
    "    empty_name=str(input(\"Enter your Dictionary element name\"))\n",
    "    empty_data=str(input(\"Enter your dictionary data\"))\n",
    "\n",
    "    my_dictionary[empty_name]=empty_data\n",
    "\n",
    "\n",
    "\n",
    "\n",
    "print(my_dictionary)"
   ]
  },
  {
   "cell_type": "code",
   "execution_count": null,
   "metadata": {},
   "outputs": [],
   "source": []
  }
 ],
 "metadata": {
  "kernelspec": {
   "display_name": "base",
   "language": "python",
   "name": "python3"
  },
  "language_info": {
   "codemirror_mode": {
    "name": "ipython",
    "version": 3
   },
   "file_extension": ".py",
   "mimetype": "text/x-python",
   "name": "python",
   "nbconvert_exporter": "python",
   "pygments_lexer": "ipython3",
   "version": "3.12.4"
  }
 },
 "nbformat": 4,
 "nbformat_minor": 2
}
