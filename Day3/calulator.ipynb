{
 "cells": [
  {
   "cell_type": "code",
   "execution_count": 7,
   "metadata": {},
   "outputs": [
    {
     "name": "stdout",
     "output_type": "stream",
     "text": [
      "10 + 10 = 20\n"
     ]
    }
   ],
   "source": [
    "def calcualte():\n",
    "    \n",
    "\n",
    "    over = False\n",
    "\n",
    "    while not over:\n",
    "\n",
    "        num1=int(input(\"Enter The first number: \"))\n",
    "        num2=int(input(\"Enter the second numer: \"))\n",
    "\n",
    "        choice=str(input(\"Enter the operation to perform (+,-,*,/): \"))\n",
    "\n",
    "        if choice=='+':\n",
    "            result=num1+num2\n",
    "            print(f\"{num1} + {num2} = {result}\")\n",
    "        elif choice=='-':\n",
    "            result=num1-num2\n",
    "            print(f\"{num1} - {num2} = {result}\")\n",
    "        elif choice=='*':\n",
    "            result=num1*num2\n",
    "            print(f\"{num1} * {num2} = {result}\")\n",
    "        elif choice=='/':\n",
    "            if num2!=0:\n",
    "                result=num1/num2\n",
    "                print(f\"{num1} / {num2} = {result}\")\n",
    "            else:\n",
    "                print(\"Cannot divide by zero\")\n",
    "    \n",
    "        check = input(\"Do you want to perform another calculation? (y/n): \").lower()\n",
    "\n",
    "        if check == \"n\":\n",
    "            again=True\n",
    "            break\n",
    "    \n",
    "calcualte()\n",
    "    \n",
    "    "
   ]
  }
 ],
 "metadata": {
  "kernelspec": {
   "display_name": "base",
   "language": "python",
   "name": "python3"
  },
  "language_info": {
   "codemirror_mode": {
    "name": "ipython",
    "version": 3
   },
   "file_extension": ".py",
   "mimetype": "text/x-python",
   "name": "python",
   "nbconvert_exporter": "python",
   "pygments_lexer": "ipython3",
   "version": "3.12.4"
  }
 },
 "nbformat": 4,
 "nbformat_minor": 2
}
